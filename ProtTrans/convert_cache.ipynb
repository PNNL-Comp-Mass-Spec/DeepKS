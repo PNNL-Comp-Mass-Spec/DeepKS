{
 "cells": [
  {
   "cell_type": "code",
   "execution_count": 2,
   "metadata": {},
   "outputs": [],
   "source": [
    "import json, pandas as pd"
   ]
  },
  {
   "cell_type": "code",
   "execution_count": null,
   "metadata": {},
   "outputs": [],
   "source": [
    "with open(\"./kin_embeddings.json\") as fp:\n",
    "    d = json.load(fp)\n",
    "convert_dict = {}\n",
    "\n",
    "dfs: list[pd.DataFrame] = []\n",
    "\n",
    "for i, f in enumerate([\"../data/raw_data_6500_formatted_95_5698.csv\", \"../data/raw_data_6406_formatted_95_5616.csv\", \"../data/raw_data_31834_formatted_65_26610.csv\"]):   \n",
    "    dfs.append(pd.read_csv(f))\n",
    "\n",
    "for df in dfs:\n",
    "    assert isinstance(df, pd.DataFrame)\n",
    "    df = df[['Gene Name of Provided Kin Seq', 'Kinase Sequence']]\n",
    "    df.drop_duplicates(keep = 'first')\n",
    "    convert_dict |= df.set_index(\"Gene Name of Provided Kin Seq\").to_dict()['Kinase Sequence']\n",
    "\n",
    "d = {convert_dict[k]: v for k, v in d.items()}\n",
    "with open(\"./kin_embeddings_mapped.json\", \"w\") as f:\n",
    "    json.dump(d, f)"
   ]
  },
  {
   "cell_type": "code",
   "execution_count": 3,
   "metadata": {},
   "outputs": [],
   "source": [
    "# Merge the caches\n",
    "\n",
    "with open(\"./T5_cache.json\") as t5_cache, open(\"./kin_embeddings_mapped.json\") as mapped:\n",
    "    t5_dict = json.load(t5_cache)\n",
    "    mapped_dict = json.load(mapped)\n",
    "\n",
    "result = t5_dict | mapped_dict\n",
    "\n",
    "with open(\"combined_cache.json\", \"w\") as cc:\n",
    "    json.dump(result, cc, indent=3)"
   ]
  },
  {
   "cell_type": "code",
   "execution_count": 7,
   "metadata": {},
   "outputs": [
    {
     "data": {
      "text/plain": [
       "(True, True)"
      ]
     },
     "execution_count": 7,
     "metadata": {},
     "output_type": "execute_result"
    }
   ],
   "source": [
    "set.issuperset(set(result.keys()), set(t5_dict.keys())), set.issuperset(set(result.keys()), set(mapped_dict.keys()))"
   ]
  }
 ],
 "metadata": {
  "kernelspec": {
   "display_name": "python_env",
   "language": "python",
   "name": "python3"
  },
  "language_info": {
   "codemirror_mode": {
    "name": "ipython",
    "version": 3
   },
   "file_extension": ".py",
   "mimetype": "text/x-python",
   "name": "python",
   "nbconvert_exporter": "python",
   "pygments_lexer": "ipython3",
   "version": "3.11.2"
  },
  "orig_nbformat": 4
 },
 "nbformat": 4,
 "nbformat_minor": 2
}
